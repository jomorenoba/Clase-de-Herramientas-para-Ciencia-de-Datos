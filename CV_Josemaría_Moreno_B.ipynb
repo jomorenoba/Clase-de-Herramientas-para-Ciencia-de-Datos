{
  "nbformat": 4,
  "nbformat_minor": 0,
  "metadata": {
    "colab": {
      "name": "CV Josemaría Moreno B.ipynb",
      "provenance": [],
      "authorship_tag": "ABX9TyMuZmZ8J7OTIa+WNobostxY",
      "include_colab_link": true
    },
    "kernelspec": {
      "name": "python3",
      "display_name": "Python 3"
    }
  },
  "cells": [
    {
      "cell_type": "markdown",
      "metadata": {
        "id": "view-in-github",
        "colab_type": "text"
      },
      "source": [
        "<a href=\"https://colab.research.google.com/github/jomorenoba/Clase-de-Herramientas-para-Ciencia-de-Datos/blob/master/CV_Josemar%C3%ADa_Moreno_B.ipynb\" target=\"_parent\"><img src=\"https://colab.research.google.com/assets/colab-badge.svg\" alt=\"Open In Colab\"/></a>"
      ]
    },
    {
      "cell_type": "code",
      "metadata": {
        "id": "NpGhwTrDpo9m",
        "colab_type": "code",
        "colab": {}
      },
      "source": [
        ""
      ],
      "execution_count": null,
      "outputs": []
    },
    {
      "cell_type": "markdown",
      "metadata": {
        "id": "YXMxNNoDptmD",
        "colab_type": "text"
      },
      "source": [
        "# Ing. Mecatrónico\n",
        "## Josemaría Moreno Balcázar       \n",
        "![](https://raw.githubusercontent.com/jomorenoba/Clase-de-Herramientas-para-Ciencia-de-Datos/master/Foto%20ID%20Chema.png)\n",
        "\n",
        "> **Edad:** 33 años\n",
        "> **E-mail:** jmorenob@up.edu.mx\n",
        "> **Celular:** 33 10 64 23 57\n",
        "\n",
        "---\n",
        "## Experiencia\n",
        "### Actualmente\n",
        "**Universidad Panamericana** ***Campus Guadalajara***\n",
        "- Coordinador de Gestión Escolar en la Facultad de Ingeniería\n",
        "---\n",
        "## Herramientas Tecnológicas\n",
        "\n",
        "- Paqueteria Office: Excel, Word, PowerPoint\n",
        "\n",
        "## Lenguajes de Programación\n",
        "\n",
        "1. Visual Basic\n",
        "2. Python (en proceso)\n",
        "---\n",
        "## Intereses Personales\n",
        "- Conocer y entender nuevos desarrollos tecnológicos\n",
        "- Gusto por los Deportes como su seguimiento\n",
        "\n",
        "|Deportes|Liga|\n",
        "|--------|-------|\n",
        "|Basket Ball|NBA|\n",
        "|Football | España e Inglaterra|\n",
        "\n",
        "\n"
      ]
    }
  ]
}